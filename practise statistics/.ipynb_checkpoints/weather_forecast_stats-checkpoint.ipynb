{
 "cells": [
  {
   "cell_type": "code",
   "execution_count": 1,
   "id": "9c7dd1e0-6a62-4a40-866c-c4098f22d27e",
   "metadata": {},
   "outputs": [],
   "source": [
    "import pandas as pd\n",
    "from scipy.stats import trim_mean\n",
    "import numpy as np"
   ]
  },
  {
   "cell_type": "code",
   "execution_count": 2,
   "id": "a902d12f-09d0-458b-b2a0-c3d4c19db257",
   "metadata": {},
   "outputs": [
    {
     "data": {
      "text/html": [
       "<div>\n",
       "<style scoped>\n",
       "    .dataframe tbody tr th:only-of-type {\n",
       "        vertical-align: middle;\n",
       "    }\n",
       "\n",
       "    .dataframe tbody tr th {\n",
       "        vertical-align: top;\n",
       "    }\n",
       "\n",
       "    .dataframe thead th {\n",
       "        text-align: right;\n",
       "    }\n",
       "</style>\n",
       "<table border=\"1\" class=\"dataframe\">\n",
       "  <thead>\n",
       "    <tr style=\"text-align: right;\">\n",
       "      <th></th>\n",
       "      <th>Temperature</th>\n",
       "      <th>Humidity</th>\n",
       "      <th>Wind_Speed</th>\n",
       "      <th>Cloud_Cover</th>\n",
       "      <th>Pressure</th>\n",
       "      <th>Rain</th>\n",
       "    </tr>\n",
       "  </thead>\n",
       "  <tbody>\n",
       "    <tr>\n",
       "      <th>0</th>\n",
       "      <td>23.720338</td>\n",
       "      <td>89.592641</td>\n",
       "      <td>7.335604</td>\n",
       "      <td>50.501694</td>\n",
       "      <td>1032.378759</td>\n",
       "      <td>rain</td>\n",
       "    </tr>\n",
       "    <tr>\n",
       "      <th>1</th>\n",
       "      <td>27.879734</td>\n",
       "      <td>46.489704</td>\n",
       "      <td>5.952484</td>\n",
       "      <td>4.990053</td>\n",
       "      <td>992.614190</td>\n",
       "      <td>no rain</td>\n",
       "    </tr>\n",
       "    <tr>\n",
       "      <th>2</th>\n",
       "      <td>25.069084</td>\n",
       "      <td>83.072843</td>\n",
       "      <td>1.371992</td>\n",
       "      <td>14.855784</td>\n",
       "      <td>1007.231620</td>\n",
       "      <td>no rain</td>\n",
       "    </tr>\n",
       "    <tr>\n",
       "      <th>3</th>\n",
       "      <td>23.622080</td>\n",
       "      <td>74.367758</td>\n",
       "      <td>7.050551</td>\n",
       "      <td>67.255282</td>\n",
       "      <td>982.632013</td>\n",
       "      <td>rain</td>\n",
       "    </tr>\n",
       "    <tr>\n",
       "      <th>4</th>\n",
       "      <td>20.591370</td>\n",
       "      <td>96.858822</td>\n",
       "      <td>4.643921</td>\n",
       "      <td>47.676444</td>\n",
       "      <td>980.825142</td>\n",
       "      <td>no rain</td>\n",
       "    </tr>\n",
       "  </tbody>\n",
       "</table>\n",
       "</div>"
      ],
      "text/plain": [
       "   Temperature   Humidity  Wind_Speed  Cloud_Cover     Pressure     Rain\n",
       "0    23.720338  89.592641    7.335604    50.501694  1032.378759     rain\n",
       "1    27.879734  46.489704    5.952484     4.990053   992.614190  no rain\n",
       "2    25.069084  83.072843    1.371992    14.855784  1007.231620  no rain\n",
       "3    23.622080  74.367758    7.050551    67.255282   982.632013     rain\n",
       "4    20.591370  96.858822    4.643921    47.676444   980.825142  no rain"
      ]
     },
     "execution_count": 2,
     "metadata": {},
     "output_type": "execute_result"
    }
   ],
   "source": [
    "# importing the csv file \n",
    "df = pd.read_csv(\"weather_forecast_data.csv\")\n",
    "df.head()                                          # printing the head of the file "
   ]
  },
  {
   "cell_type": "code",
   "execution_count": 13,
   "id": "c677495a-76a8-45d9-b797-f7ce2f168d19",
   "metadata": {},
   "outputs": [],
   "source": [
    "# let's do the statistical analysis on all numerical columns present in the dataset \n",
    "\n",
    "# Estimates of location \n",
    "class Locality:\n",
    "    def mean(self,column):\n",
    "        tot = 0\n",
    "        n = len(df[column])\n",
    "        for i in df[column]:\n",
    "            tot += i\n",
    "        return tot/n\n",
    "    \n",
    "    def trimmed_mean(self,column,p):\n",
    "        try :\n",
    "            if p > 1 and p < 100:\n",
    "                n = len(df[column])\n",
    "                p = int(n*(p/100))\n",
    "                tot = 0\n",
    "                arr = np.array(df[column])\n",
    "                arr.sort()\n",
    "                for i in range(p+1,n-p):\n",
    "                    tot += arr[i]\n",
    "                return (tot/ (n-(2*p)))\n",
    "        except:\n",
    "            return 'please enter a valid value'\n",
    "            \n",
    "    \n",
    "    def median(self,column):\n",
    "        arr = np.array(df[column])\n",
    "        arr.sort()\n",
    "        n = len(arr)\n",
    "        if n % 2 != 0:                                      # odd case\n",
    "            return arr[(n+1)//2]\n",
    "        else:                                              # even case\n",
    "            return ((arr[(n//2)] + arr[(n//2)+1])/2)\n",
    "    \n",
    "    def allEstimates(self,column,trim_val = 0.2):             # following function takes column as input and returns mean, trimmed mean, and median of the data \n",
    "        print(column)\n",
    "        print('-'*20)\n",
    "        print(\"Mean         :\",df[column].mean())\n",
    "        print(\"Trimmed Mean :\", trim_mean(df[column],trim_val))\n",
    "        print(\"Median       :\", df[column].median())\n"
   ]
  },
  {
   "cell_type": "code",
   "execution_count": 16,
   "id": "747b06d4-ab39-4044-8a2e-eb74d89b7de5",
   "metadata": {},
   "outputs": [
    {
     "data": {
      "text/plain": [
       "'value should not be more than 100 or less than 1'"
      ]
     },
     "execution_count": 16,
     "metadata": {},
     "output_type": "execute_result"
    }
   ],
   "source": [
    "loc = Locality()\n",
    "loc.trimmed_mean('Humidity',0)"
   ]
  },
  {
   "cell_type": "code",
   "execution_count": 101,
   "id": "75ccee71-2a24-417b-82e6-c39c7e595317",
   "metadata": {},
   "outputs": [],
   "source": [
    "# Estimates of variability\n",
    "\n",
    "class Variability:\n",
    "    # Mean absolute deviation/manhattan norm/ l1 norm \n",
    "    def mad(self,colname):\n",
    "        mean_val = df[colname].mean()                                     # calculating the mean value\n",
    "        length = len(df[colname])                                         # length of the feature\n",
    "        tot = 0                                                           # creating a variable and initialising the value to 0 \n",
    "        for x in df[colname]:                                             # loop through the values of that column\n",
    "            tot += abs(x-mean_val)                                        # x-mean_val --> mean deviation \n",
    "        return round(tot/length,3)                                        # returning the rounded value\n",
    "        \n",
    "    # using numpy calculate the mean absolute deviation \n",
    "    def mad2(self,colname):\n",
    "        mean_ = np.mean(df[colname])                                      # taking the mean of pd.core.series.Series\n",
    "        abs_deviation = np.abs(df[colname] - mean_)                       # converting to positive values \n",
    "        mad2 = round(np.mean(abs_deviation),3)                            # calculating the mean deviation and rounding to 3 digit\n",
    "        return mad2                                                       # returning the value\n",
    "    \n",
    "    # variance/mean squared error  \n",
    "    def variance(self,colName):\n",
    "        n = len(df[colName])                                             # calculating the length of the column\n",
    "        tot = 0                                                          # initialised variable with 0\n",
    "        mean_val = df[colName].mean()                                    # calculating the mean value for that column\n",
    "        for x in df[colName]:                                            # loop\n",
    "            tot += (x - mean_val)**2                                     # (x - mean_val)**2 --> squared mean deviation \n",
    "        return round(tot/(n-1),3)                                        # returing the variance\n",
    "        \n",
    "    def variance2(self,colName):\n",
    "        return round(df[colName].var() ,3)                               # in-built function to calculate the variance   \n",
    "    \n",
    "    # standard deviation/ l2 norm / euclidean norm \n",
    "    def stdDev(self,colName):                                  \n",
    "        return round(self.variance(colName)**0.5,6)                      # calling the variance function to take the square root of it                                        \n",
    "    \n",
    "    def stdDev2(self,colName):\n",
    "        return round(df[colName].std(),6)                                # in-built standard deviation calling function \n",
    "\n",
    "    # range\n",
    "    def range_(self,colname):\n",
    "        return round(min(df[colname]),6),round(max(df[colname]),6)       # return minimum and maximum value of that column\n",
    "\n",
    "    # inter quartile range \n",
    "    def interQuartilerange(self,colname):\n",
    "        return df[colname].quantile(0.75) - df[colname].quantile(0.25)   # returns the difference between the 75 and 25 quantile value\n",
    "\n",
    "    def quantile(self,colname,val = 0.01):\n",
    "        if val > 0 and val < 1:                                          # checks if the value greater than 0 and less than 1 or not \n",
    "            return df[colname].quantile(val)                             # return quantile value already initialised to 0.5 to find the median \n",
    "        else:                                                            # else throws an error message \n",
    "            return \"please check the value should be less than 1 and greater 0\"\n",
    "\n",
    "    def displayValue(self,colname):\n",
    "        print('Mean absolute deviation :', self.mad(colname))\n",
    "        print('Variance                :', self.variance(colname))\n",
    "        print('Standard Deviation      :', self.stdDev(colname))\n",
    "        print('range                   :', self.range(colname))\n",
    "        print('Interquantile range     :', self.interQuartilerange(colname))\n",
    "        print('Quantile                :', self.quantile(colname))\n",
    "    "
   ]
  },
  {
   "cell_type": "code",
   "execution_count": 76,
   "id": "236cd25c-a4c0-41f2-8fd9-8e3efc0c246f",
   "metadata": {},
   "outputs": [
    {
     "name": "stdout",
     "output_type": "stream",
     "text": [
      "Mean absolute deviation : 5.012\n",
      "Variance                : 33.412\n",
      "Standard Deviation      : 5.780311410296162\n",
      "range                   : (0.009819, 19.999132)\n",
      "Interquantile range     : 10.186498793786143\n",
      "Quantile                : 0.1417012330694801\n"
     ]
    }
   ],
   "source": [
    "stat = Variability()\n",
    "stat.displayValue('Wind_Speed')"
   ]
  },
  {
   "cell_type": "code",
   "execution_count": 33,
   "id": "85f16bd2-1183-4e99-844c-8950d82252fc",
   "metadata": {},
   "outputs": [
    {
     "data": {
      "text/html": [
       "<div>\n",
       "<style scoped>\n",
       "    .dataframe tbody tr th:only-of-type {\n",
       "        vertical-align: middle;\n",
       "    }\n",
       "\n",
       "    .dataframe tbody tr th {\n",
       "        vertical-align: top;\n",
       "    }\n",
       "\n",
       "    .dataframe thead th {\n",
       "        text-align: right;\n",
       "    }\n",
       "</style>\n",
       "<table border=\"1\" class=\"dataframe\">\n",
       "  <thead>\n",
       "    <tr style=\"text-align: right;\">\n",
       "      <th></th>\n",
       "      <th>Temperature</th>\n",
       "      <th>Humidity</th>\n",
       "      <th>Wind_Speed</th>\n",
       "      <th>Cloud_Cover</th>\n",
       "      <th>Pressure</th>\n",
       "    </tr>\n",
       "  </thead>\n",
       "  <tbody>\n",
       "    <tr>\n",
       "      <th>count</th>\n",
       "      <td>2500.000000</td>\n",
       "      <td>2500.000000</td>\n",
       "      <td>2500.000000</td>\n",
       "      <td>2500.000000</td>\n",
       "      <td>2500.000000</td>\n",
       "    </tr>\n",
       "    <tr>\n",
       "      <th>mean</th>\n",
       "      <td>22.581725</td>\n",
       "      <td>64.347094</td>\n",
       "      <td>9.906255</td>\n",
       "      <td>49.658104</td>\n",
       "      <td>1014.312336</td>\n",
       "    </tr>\n",
       "    <tr>\n",
       "      <th>std</th>\n",
       "      <td>7.326996</td>\n",
       "      <td>19.954739</td>\n",
       "      <td>5.780316</td>\n",
       "      <td>29.123104</td>\n",
       "      <td>20.196433</td>\n",
       "    </tr>\n",
       "    <tr>\n",
       "      <th>min</th>\n",
       "      <td>10.001842</td>\n",
       "      <td>30.005071</td>\n",
       "      <td>0.009819</td>\n",
       "      <td>0.015038</td>\n",
       "      <td>980.014486</td>\n",
       "    </tr>\n",
       "    <tr>\n",
       "      <th>25%</th>\n",
       "      <td>16.359398</td>\n",
       "      <td>47.339815</td>\n",
       "      <td>4.761909</td>\n",
       "      <td>23.900016</td>\n",
       "      <td>996.938630</td>\n",
       "    </tr>\n",
       "    <tr>\n",
       "      <th>50%</th>\n",
       "      <td>22.536448</td>\n",
       "      <td>63.920797</td>\n",
       "      <td>9.908572</td>\n",
       "      <td>49.488284</td>\n",
       "      <td>1013.433035</td>\n",
       "    </tr>\n",
       "    <tr>\n",
       "      <th>75%</th>\n",
       "      <td>28.976476</td>\n",
       "      <td>81.561021</td>\n",
       "      <td>14.948408</td>\n",
       "      <td>75.324140</td>\n",
       "      <td>1031.735067</td>\n",
       "    </tr>\n",
       "    <tr>\n",
       "      <th>max</th>\n",
       "      <td>34.995214</td>\n",
       "      <td>99.997481</td>\n",
       "      <td>19.999132</td>\n",
       "      <td>99.997795</td>\n",
       "      <td>1049.985593</td>\n",
       "    </tr>\n",
       "  </tbody>\n",
       "</table>\n",
       "</div>"
      ],
      "text/plain": [
       "       Temperature     Humidity   Wind_Speed  Cloud_Cover     Pressure\n",
       "count  2500.000000  2500.000000  2500.000000  2500.000000  2500.000000\n",
       "mean     22.581725    64.347094     9.906255    49.658104  1014.312336\n",
       "std       7.326996    19.954739     5.780316    29.123104    20.196433\n",
       "min      10.001842    30.005071     0.009819     0.015038   980.014486\n",
       "25%      16.359398    47.339815     4.761909    23.900016   996.938630\n",
       "50%      22.536448    63.920797     9.908572    49.488284  1013.433035\n",
       "75%      28.976476    81.561021    14.948408    75.324140  1031.735067\n",
       "max      34.995214    99.997481    19.999132    99.997795  1049.985593"
      ]
     },
     "execution_count": 33,
     "metadata": {},
     "output_type": "execute_result"
    }
   ],
   "source": [
    "df.describe()"
   ]
  },
  {
   "cell_type": "code",
   "execution_count": 23,
   "id": "91271236-4e4a-4688-96f3-bcb7a4faaa9e",
   "metadata": {},
   "outputs": [
    {
     "data": {
      "text/plain": [
       "(10.001842485827652, 34.99521445292413)"
      ]
     },
     "execution_count": 23,
     "metadata": {},
     "output_type": "execute_result"
    }
   ],
   "source": [
    "def range(colname):\n",
    "    return min(df[colname]),max(df[colname])\n",
    "range('Temperature')"
   ]
  },
  {
   "cell_type": "code",
   "execution_count": 42,
   "id": "876188c6-502f-446a-86ff-6674c18ac49b",
   "metadata": {},
   "outputs": [
    {
     "data": {
      "text/plain": [
       "34.22120589766598"
      ]
     },
     "execution_count": 42,
     "metadata": {},
     "output_type": "execute_result"
    }
   ],
   "source": []
  },
  {
   "cell_type": "code",
   "execution_count": null,
   "id": "71a670b7-414e-44c4-9960-657803b70a0c",
   "metadata": {},
   "outputs": [],
   "source": []
  },
  {
   "cell_type": "code",
   "execution_count": null,
   "id": "f98fa9c4-d27b-4b4b-8fa6-09834a8c002a",
   "metadata": {},
   "outputs": [],
   "source": []
  },
  {
   "cell_type": "code",
   "execution_count": null,
   "id": "d2d14e25-60f7-4dcb-a46a-9f524ee52587",
   "metadata": {},
   "outputs": [],
   "source": []
  },
  {
   "cell_type": "code",
   "execution_count": null,
   "id": "ca214f04-6ab5-4f5f-b000-04bdf214b4f2",
   "metadata": {},
   "outputs": [],
   "source": []
  },
  {
   "cell_type": "code",
   "execution_count": null,
   "id": "e290a185-2d48-4479-9b26-5bfbb3fbd8a7",
   "metadata": {},
   "outputs": [],
   "source": []
  },
  {
   "cell_type": "code",
   "execution_count": null,
   "id": "c4c73224-2d5b-4bc7-8ceb-71775b76db0f",
   "metadata": {},
   "outputs": [],
   "source": []
  },
  {
   "cell_type": "code",
   "execution_count": null,
   "id": "7be8c414-d7dc-4523-bb40-6968b7c8610b",
   "metadata": {},
   "outputs": [],
   "source": []
  },
  {
   "cell_type": "code",
   "execution_count": null,
   "id": "0e1a098c-e353-4b26-8d62-4801d2587a42",
   "metadata": {},
   "outputs": [],
   "source": []
  },
  {
   "cell_type": "code",
   "execution_count": null,
   "id": "5ac04d5e-3caf-41c5-80ff-abab8e723f4c",
   "metadata": {},
   "outputs": [],
   "source": []
  },
  {
   "cell_type": "code",
   "execution_count": null,
   "id": "e3d69de0-ad71-472a-9f73-90f0a8f8e31d",
   "metadata": {},
   "outputs": [],
   "source": []
  },
  {
   "cell_type": "code",
   "execution_count": null,
   "id": "596dd2f3-f8b8-4164-92d5-76bb29eaf361",
   "metadata": {},
   "outputs": [],
   "source": []
  },
  {
   "cell_type": "code",
   "execution_count": null,
   "id": "5021f0a7-0ecf-4992-8b49-0ef5b2569072",
   "metadata": {},
   "outputs": [],
   "source": []
  },
  {
   "cell_type": "code",
   "execution_count": null,
   "id": "2db65fdb-8871-475d-8d73-b18f77e6c25e",
   "metadata": {},
   "outputs": [],
   "source": []
  },
  {
   "cell_type": "code",
   "execution_count": null,
   "id": "f729c39a-095d-4447-830c-7cc8aaf4cae3",
   "metadata": {},
   "outputs": [],
   "source": [
    "T"
   ]
  }
 ],
 "metadata": {
  "kernelspec": {
   "display_name": "Python 3 (ipykernel)",
   "language": "python",
   "name": "python3"
  },
  "language_info": {
   "codemirror_mode": {
    "name": "ipython",
    "version": 3
   },
   "file_extension": ".py",
   "mimetype": "text/x-python",
   "name": "python",
   "nbconvert_exporter": "python",
   "pygments_lexer": "ipython3",
   "version": "3.12.1"
  }
 },
 "nbformat": 4,
 "nbformat_minor": 5
}
